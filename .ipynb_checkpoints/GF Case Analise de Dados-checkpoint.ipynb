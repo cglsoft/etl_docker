{
 "cells": [
  {
   "cell_type": "markdown",
   "metadata": {},
   "source": [
    "# GEOFUSION  Processo Seletivo\n",
    "\n",
    "##  Engenheiro de Dados - Análise de Dados\n",
    "\n",
    "###  Desafio Técnico\n",
    "\n",
    "### CLAUDIO GERVASIO DE LISBOA FEV/2019"
   ]
  },
  {
   "cell_type": "code",
   "execution_count": 1,
   "metadata": {},
   "outputs": [
    {
     "ename": "ModuleNotFoundError",
     "evalue": "No module named 'plotly'",
     "output_type": "error",
     "traceback": [
      "\u001b[0;31m---------------------------------------------------------------------------\u001b[0m",
      "\u001b[0;31mModuleNotFoundError\u001b[0m                       Traceback (most recent call last)",
      "\u001b[0;32m<ipython-input-1-7d47108660f6>\u001b[0m in \u001b[0;36m<module>\u001b[0;34m\u001b[0m\n\u001b[1;32m      2\u001b[0m \u001b[0;32mimport\u001b[0m \u001b[0mnumpy\u001b[0m \u001b[0;32mas\u001b[0m \u001b[0mnp\u001b[0m\u001b[0;34m\u001b[0m\u001b[0;34m\u001b[0m\u001b[0m\n\u001b[1;32m      3\u001b[0m \u001b[0;32mimport\u001b[0m \u001b[0mscipy\u001b[0m \u001b[0;32mas\u001b[0m \u001b[0msp\u001b[0m\u001b[0;34m\u001b[0m\u001b[0;34m\u001b[0m\u001b[0m\n\u001b[0;32m----> 4\u001b[0;31m \u001b[0;32mimport\u001b[0m \u001b[0mplotly\u001b[0m\u001b[0;34m.\u001b[0m\u001b[0mplotly\u001b[0m \u001b[0;32mas\u001b[0m \u001b[0mpy\u001b[0m\u001b[0;34m\u001b[0m\u001b[0;34m\u001b[0m\u001b[0m\n\u001b[0m",
      "\u001b[0;31mModuleNotFoundError\u001b[0m: No module named 'plotly'"
     ]
    }
   ],
   "source": [
    "import pandas as pd\n",
    "import numpy as np\n",
    "import scipy as sp\n",
    "import plotly.plotly as py"
   ]
  },
  {
   "cell_type": "code",
   "execution_count": 2,
   "metadata": {},
   "outputs": [],
   "source": [
    "# Iniciar spark session\n",
    "_spark = SparkSession.builder \\\n",
    "                    .master(\"local\") \\\n",
    "                    .appName(\"GeoFusion CASE\") \\\n",
    "                    .getOrCreate()"
   ]
  },
  {
   "cell_type": "code",
   "execution_count": 7,
   "metadata": {},
   "outputs": [],
   "source": [
    "# Files localization ON Windows\n",
    "_bairros = 'C:\\\\dump\\\\gf\\\\bairros.csv'\n",
    "_concorrentes = 'C:\\\\dump\\\\gf\\\\concorrentes.csv'\n",
    "_eventos_de_fluxo = 'C:\\\\dump\\\\gf\\\\eventos_de_fluxo.csv'\n",
    "_populacao = 'C:\\\\dump\\\\gf\\\\populacao.json'\n",
    "_potencial = 'C:\\\\dump\\\\gf\\\\potencial.csv'\n",
    "\n",
    "# Linux localization\n",
    "_bairros = '/home/jovyan/work/bairros.csv'\n",
    "_concorrentes = '/home/jovyan/work/concorrentes.csv'\n",
    "_eventos_de_fluxo = '/home/jovyan/work/eventos_de_fluxo.csv'\n",
    "_populacao = '/home/jovyan/work/populacao.json'\n",
    "_potencial = '/home/jovyan/work/potencial.csv'"
   ]
  },
  {
   "cell_type": "code",
   "execution_count": 8,
   "metadata": {},
   "outputs": [],
   "source": [
    "# UDF Periodo do dia\n",
    "def get_periodo_dia(hour):\n",
    "    return (\n",
    "        \"(1)manha\" if 5 <= hour <= 11\n",
    "        else\n",
    "        \"(2)tarde\" if 12 <= hour <= 17\n",
    "        else\n",
    "        \"(3)noite\" if 18 <= hour <= 22\n",
    "        else\n",
    "        \"(4)madrugada\"\n",
    "    )\n",
    "udf_get_periodo_dia = udf(get_periodo_dia, StringType())"
   ]
  },
  {
   "cell_type": "code",
   "execution_count": 9,
   "metadata": {},
   "outputs": [],
   "source": [
    "# Leitura das Fontes de Dados\n",
    "\n",
    "df_bairros = _spark.read.option(\"encoding\", \"utf-8\").csv(_bairros, header=True, sep=',')\n",
    "df_concorrentes = _spark.read.option(\"encoding\", \"utf-8\").csv(_concorrentes, header=True, sep=',')\n",
    "df_eventos_de_fluxo = _spark.read.option(\"encoding\", \"utf-8\").csv(_eventos_de_fluxo, header=True, sep=',')\n",
    "df_populacao = _spark.read.option(\"encoding\", \"utf-8\").json(_populacao)\n",
    "\n",
    "\n",
    "df_potencial = _spark.read.option(\"encoding\", \"utf-8\").csv(_potencial, header=True, sep=',')"
   ]
  },
  {
   "cell_type": "code",
   "execution_count": 10,
   "metadata": {},
   "outputs": [],
   "source": [
    "# A densidade demográfica de um bairro é uma informação muito\n",
    "# importante para nossos clientes e é uma informação que precisa ser\n",
    "# calculada. A densidade demográfica de um bairro é o resultado da divisão\n",
    "# da população do bairro pela área do bairro.\n",
    "df_densidade_demografica = df_populacao.join( df_bairros,( df_populacao.codigo == df_bairros.codigo ), 'left' ) \\\n",
    "                                       .select( df_bairros[\"codigo\"].alias(\"codigo_bairro\"),\n",
    "                                                df_bairros[\"nome\"].alias(\"nome_bairro\"),\n",
    "                                                df_bairros[\"area\"],\n",
    "                                                df_populacao[\"populacao\"],\n",
    "                                                ( df_populacao[\"populacao\"] / df_bairros[\"area\"]).alias('dens_demografica'))"
   ]
  },
  {
   "cell_type": "code",
   "execution_count": 11,
   "metadata": {},
   "outputs": [],
   "source": [
    "# Análise do Fluxo de Pessoas por concorrentes\n",
    "df_fluxo_pessoas = df_eventos_de_fluxo \\\n",
    "                       .select('codigo_concorrente',\n",
    "                               'datetime', \n",
    "                               dayofmonth(\"datetime\").alias('dia'), \n",
    "                               hour(\"datetime\").alias('hora'),  \n",
    "                               udf_get_periodo_dia(hour(\"datetime\").alias('hora')).alias('periodo'),                                       \n",
    "                               date_format(\"datetime\", 'u').alias('semana_id'), \n",
    "                               date_format(\"datetime\", 'E').alias('semana_nome')) \\\n",
    "                        .groupBy('codigo_concorrente','semana_id','semana_nome','periodo') \\\n",
    "                        .agg(f.count('codigo_concorrente').alias('qtd_visitas')) \\\n",
    "                        .sort(col('codigo_concorrente'),col('semana_id').asc(), col('periodo').asc())"
   ]
  },
  {
   "cell_type": "code",
   "execution_count": 12,
   "metadata": {},
   "outputs": [
    {
     "data": {
      "text/plain": [
       "[('codigo_concorrente', 'string'),\n",
       " ('semana_id', 'string'),\n",
       " ('semana_nome', 'string'),\n",
       " ('periodo', 'string'),\n",
       " ('qtd_visitas', 'bigint')]"
      ]
     },
     "execution_count": 12,
     "metadata": {},
     "output_type": "execute_result"
    }
   ],
   "source": [
    "df_fluxo_pessoas.dtypes"
   ]
  },
  {
   "cell_type": "code",
   "execution_count": 13,
   "metadata": {},
   "outputs": [],
   "source": [
    "# Neste case seu desafio será implementar um serviço REST que retorne\n",
    "# informações dos concorrentes como código, nome, endereço, preço\n",
    "# praticado, fluxo médio de pessoas por dia da semana e por período do dia,\n",
    "# bairro e a população e a densidade demográfica do bairro.\n",
    "\n",
    "df_final = df_concorrentes.join( df_densidade_demografica, \n",
    "                                (df_concorrentes.codigo_bairro == df_densidade_demografica.codigo_bairro), 'left') \\\n",
    "                          .join( df_fluxo_pessoas, \n",
    "                                (df_concorrentes.codigo == df_fluxo_pessoas.codigo_concorrente), 'left') \\\n",
    "                          .select(df_concorrentes['codigo'].alias('codigo_concorrente'),\n",
    "                                  df_concorrentes['nome'],\n",
    "                                  df_concorrentes['categoria'],\n",
    "                                  df_concorrentes['endereco'],\n",
    "                                  df_concorrentes['municipio'],\n",
    "                                  df_concorrentes['uf'],\n",
    "                                  df_concorrentes['codigo_bairro'],\n",
    "                                  df_densidade_demografica['area'],\n",
    "                                  df_densidade_demografica['populacao'],\n",
    "                                  df_densidade_demografica['dens_demografica'],\n",
    "                                  df_fluxo_pessoas['semana_id'],\n",
    "                                  df_fluxo_pessoas['semana_nome'],\n",
    "                                  df_fluxo_pessoas['periodo'],\n",
    "                                  df_fluxo_pessoas['qtd_visitas'])\n"
   ]
  },
  {
   "cell_type": "code",
   "execution_count": 14,
   "metadata": {},
   "outputs": [
    {
     "name": "stdout",
     "output_type": "stream",
     "text": [
      "+------------------+--------------------+-----------+-----------+------------+------------------+\n",
      "|codigo_concorrente|            endereco|qtd_visitas|semana_nome|     periodo|  dens_demografica|\n",
      "+------------------+--------------------+-----------+-----------+------------+------------------+\n",
      "|  1002487856442955|R. João Carlos do...|         12|        Mon|    (1)manha|3799.5875141376205|\n",
      "|  1002487856442955|R. João Carlos do...|          5|        Mon|    (3)noite|3799.5875141376205|\n",
      "|  1002487856442955|R. João Carlos do...|          2|        Tue|    (1)manha|3799.5875141376205|\n",
      "|  1002487856442955|R. João Carlos do...|          4|        Tue|    (2)tarde|3799.5875141376205|\n",
      "|  1002487856442955|R. João Carlos do...|          3|        Wed|    (1)manha|3799.5875141376205|\n",
      "|  1002487856442955|R. João Carlos do...|         10|        Wed|    (2)tarde|3799.5875141376205|\n",
      "|  1002487856442955|R. João Carlos do...|          2|        Wed|    (3)noite|3799.5875141376205|\n",
      "|  1002487856442955|R. João Carlos do...|          3|        Wed|(4)madrugada|3799.5875141376205|\n",
      "|  1002487856442955|R. João Carlos do...|          1|        Thu|    (1)manha|3799.5875141376205|\n",
      "|  1002487856442955|R. João Carlos do...|          1|        Thu|    (2)tarde|3799.5875141376205|\n",
      "|  1002487856442955|R. João Carlos do...|          1|        Thu|(4)madrugada|3799.5875141376205|\n",
      "|  1002487856442955|R. João Carlos do...|          1|        Fri|    (1)manha|3799.5875141376205|\n",
      "|  1002487856442955|R. João Carlos do...|          2|        Fri|    (2)tarde|3799.5875141376205|\n",
      "|  1002487856442955|R. João Carlos do...|          2|        Fri|(4)madrugada|3799.5875141376205|\n",
      "|  1002487856442955|R. João Carlos do...|          3|        Sat|    (1)manha|3799.5875141376205|\n",
      "|  1002487856442955|R. João Carlos do...|          6|        Sat|    (2)tarde|3799.5875141376205|\n",
      "|  1002487856442955|R. João Carlos do...|          1|        Sat|    (3)noite|3799.5875141376205|\n",
      "|  1002487856442955|R. João Carlos do...|          2|        Sun|    (1)manha|3799.5875141376205|\n",
      "|  1002487856442955|R. João Carlos do...|          2|        Sun|    (2)tarde|3799.5875141376205|\n",
      "|  1002487856442955|R. João Carlos do...|          1|        Sun|    (3)noite|3799.5875141376205|\n",
      "|  1009683309101992|Prof. Lydia Abdal...|          4|        Sun|    (1)manha|18.321647832986066|\n",
      "|   101025009987066|Rua Maria Ferreir...|         20|        Mon|    (1)manha|1010.9445050442843|\n",
      "|   101025009987066|Rua Maria Ferreir...|         16|        Mon|    (2)tarde|1010.9445050442843|\n",
      "|   101025009987066|Rua Maria Ferreir...|         18|        Mon|    (3)noite|1010.9445050442843|\n",
      "|   101025009987066|Rua Maria Ferreir...|         10|        Tue|    (1)manha|1010.9445050442843|\n",
      "|   101025009987066|Rua Maria Ferreir...|         14|        Tue|    (2)tarde|1010.9445050442843|\n",
      "|   101025009987066|Rua Maria Ferreir...|         14|        Tue|    (3)noite|1010.9445050442843|\n",
      "|   101025009987066|Rua Maria Ferreir...|         17|        Wed|    (1)manha|1010.9445050442843|\n",
      "|   101025009987066|Rua Maria Ferreir...|         16|        Wed|    (2)tarde|1010.9445050442843|\n",
      "|   101025009987066|Rua Maria Ferreir...|         13|        Wed|    (3)noite|1010.9445050442843|\n",
      "|   101025009987066|Rua Maria Ferreir...|         10|        Thu|    (1)manha|1010.9445050442843|\n",
      "|   101025009987066|Rua Maria Ferreir...|         25|        Thu|    (2)tarde|1010.9445050442843|\n",
      "|   101025009987066|Rua Maria Ferreir...|         17|        Thu|    (3)noite|1010.9445050442843|\n",
      "|   101025009987066|Rua Maria Ferreir...|         20|        Fri|    (1)manha|1010.9445050442843|\n",
      "|   101025009987066|Rua Maria Ferreir...|         25|        Fri|    (2)tarde|1010.9445050442843|\n",
      "|   101025009987066|Rua Maria Ferreir...|         10|        Fri|    (3)noite|1010.9445050442843|\n",
      "|   101025009987066|Rua Maria Ferreir...|          2|        Fri|(4)madrugada|1010.9445050442843|\n",
      "|   101025009987066|Rua Maria Ferreir...|         18|        Sat|    (1)manha|1010.9445050442843|\n",
      "|   101025009987066|Rua Maria Ferreir...|         29|        Sat|    (2)tarde|1010.9445050442843|\n",
      "|   101025009987066|Rua Maria Ferreir...|         26|        Sat|    (3)noite|1010.9445050442843|\n",
      "|   101025009987066|Rua Maria Ferreir...|          2|        Sat|(4)madrugada|1010.9445050442843|\n",
      "|   101025009987066|Rua Maria Ferreir...|         15|        Sun|    (1)manha|1010.9445050442843|\n",
      "|   101025009987066|Rua Maria Ferreir...|         39|        Sun|    (2)tarde|1010.9445050442843|\n",
      "|   101025009987066|Rua Maria Ferreir...|          7|        Sun|    (3)noite|1010.9445050442843|\n",
      "|   101697359943871|Avenida John Boyd...|         31|        Mon|    (1)manha|  7192.09306483125|\n",
      "|   101697359943871|Avenida John Boyd...|         34|        Mon|    (2)tarde|  7192.09306483125|\n",
      "|   101697359943871|Avenida John Boyd...|         28|        Mon|    (3)noite|  7192.09306483125|\n",
      "|   101697359943871|Avenida John Boyd...|          9|        Mon|(4)madrugada|  7192.09306483125|\n",
      "|   101697359943871|Avenida John Boyd...|         29|        Tue|    (1)manha|  7192.09306483125|\n",
      "|   101697359943871|Avenida John Boyd...|         43|        Tue|    (2)tarde|  7192.09306483125|\n",
      "|   101697359943871|Avenida John Boyd...|         22|        Tue|    (3)noite|  7192.09306483125|\n",
      "|   101697359943871|Avenida John Boyd...|          1|        Tue|(4)madrugada|  7192.09306483125|\n",
      "|   101697359943871|Avenida John Boyd...|         25|        Wed|    (1)manha|  7192.09306483125|\n",
      "|   101697359943871|Avenida John Boyd...|         30|        Wed|    (2)tarde|  7192.09306483125|\n",
      "|   101697359943871|Avenida John Boyd...|         12|        Wed|    (3)noite|  7192.09306483125|\n",
      "|   101697359943871|Avenida John Boyd...|          6|        Wed|(4)madrugada|  7192.09306483125|\n",
      "|   101697359943871|Avenida John Boyd...|         39|        Thu|    (1)manha|  7192.09306483125|\n",
      "|   101697359943871|Avenida John Boyd...|         12|        Thu|    (2)tarde|  7192.09306483125|\n",
      "|   101697359943871|Avenida John Boyd...|         14|        Thu|    (3)noite|  7192.09306483125|\n",
      "|   101697359943871|Avenida John Boyd...|         11|        Thu|(4)madrugada|  7192.09306483125|\n",
      "|   101697359943871|Avenida John Boyd...|         22|        Fri|    (1)manha|  7192.09306483125|\n",
      "|   101697359943871|Avenida John Boyd...|         21|        Fri|    (2)tarde|  7192.09306483125|\n",
      "|   101697359943871|Avenida John Boyd...|         15|        Fri|    (3)noite|  7192.09306483125|\n",
      "|   101697359943871|Avenida John Boyd...|          1|        Fri|(4)madrugada|  7192.09306483125|\n",
      "|   101697359943871|Avenida John Boyd...|         33|        Sat|    (1)manha|  7192.09306483125|\n",
      "|   101697359943871|Avenida John Boyd...|         25|        Sat|    (2)tarde|  7192.09306483125|\n",
      "|   101697359943871|Avenida John Boyd...|         26|        Sat|    (3)noite|  7192.09306483125|\n",
      "|   101697359943871|Avenida John Boyd...|          7|        Sat|(4)madrugada|  7192.09306483125|\n",
      "|   101697359943871|Avenida John Boyd...|         22|        Sun|    (1)manha|  7192.09306483125|\n",
      "|   101697359943871|Avenida John Boyd...|         23|        Sun|    (2)tarde|  7192.09306483125|\n",
      "|   101697359943871|Avenida John Boyd...|         30|        Sun|    (3)noite|  7192.09306483125|\n",
      "|   101697359943871|Avenida John Boyd...|          5|        Sun|(4)madrugada|  7192.09306483125|\n",
      "|  1025857507443238|AVENIDA MACHADO D...|          3|        Mon|    (1)manha| 4607.542022002218|\n",
      "|  1025857507443238|AVENIDA MACHADO D...|          8|        Mon|    (2)tarde| 4607.542022002218|\n",
      "|  1025857507443238|AVENIDA MACHADO D...|          3|        Tue|    (1)manha| 4607.542022002218|\n",
      "|  1025857507443238|AVENIDA MACHADO D...|         11|        Tue|    (2)tarde| 4607.542022002218|\n",
      "|  1025857507443238|AVENIDA MACHADO D...|          7|        Tue|    (3)noite| 4607.542022002218|\n",
      "|  1025857507443238|AVENIDA MACHADO D...|          6|        Wed|    (1)manha| 4607.542022002218|\n",
      "|  1025857507443238|AVENIDA MACHADO D...|         15|        Wed|    (2)tarde| 4607.542022002218|\n",
      "|  1025857507443238|AVENIDA MACHADO D...|         13|        Wed|    (3)noite| 4607.542022002218|\n",
      "|  1025857507443238|AVENIDA MACHADO D...|          1|        Wed|(4)madrugada| 4607.542022002218|\n",
      "|  1025857507443238|AVENIDA MACHADO D...|         10|        Thu|    (1)manha| 4607.542022002218|\n",
      "|  1025857507443238|AVENIDA MACHADO D...|         11|        Thu|    (2)tarde| 4607.542022002218|\n",
      "|  1025857507443238|AVENIDA MACHADO D...|          5|        Thu|    (3)noite| 4607.542022002218|\n",
      "|  1025857507443238|AVENIDA MACHADO D...|          7|        Fri|    (1)manha| 4607.542022002218|\n",
      "|  1025857507443238|AVENIDA MACHADO D...|          2|        Fri|    (2)tarde| 4607.542022002218|\n",
      "|  1025857507443238|AVENIDA MACHADO D...|          8|        Fri|    (3)noite| 4607.542022002218|\n",
      "|  1025857507443238|AVENIDA MACHADO D...|          2|        Fri|(4)madrugada| 4607.542022002218|\n",
      "|  1025857507443238|AVENIDA MACHADO D...|          1|        Sat|    (1)manha| 4607.542022002218|\n",
      "|  1025857507443238|AVENIDA MACHADO D...|          8|        Sat|    (2)tarde| 4607.542022002218|\n",
      "|  1025857507443238|AVENIDA MACHADO D...|          9|        Sat|    (3)noite| 4607.542022002218|\n",
      "|  1025857507443238|AVENIDA MACHADO D...|          5|        Sat|(4)madrugada| 4607.542022002218|\n",
      "|  1025857507443238|AVENIDA MACHADO D...|          1|        Sun|    (1)manha| 4607.542022002218|\n",
      "|  1025857507443238|AVENIDA MACHADO D...|          7|        Sun|    (2)tarde| 4607.542022002218|\n",
      "|  1025857507443238|AVENIDA MACHADO D...|          7|        Sun|    (3)noite| 4607.542022002218|\n",
      "|  1025857507443238|AVENIDA MACHADO D...|          1|        Sun|(4)madrugada| 4607.542022002218|\n",
      "|  1034495969936215|Avenida Mário Gar...|          1|        Wed|    (1)manha| 901.4993269275403|\n",
      "|  1034495969936215|Avenida Mário Gar...|          1|        Thu|    (1)manha| 901.4993269275403|\n",
      "|  1034495969936215|Avenida Mário Gar...|          3|        Fri|    (2)tarde| 901.4993269275403|\n",
      "|   104027309658909|Estrada das Cabra...|          1|        Mon|    (1)manha| 901.4993269275403|\n",
      "+------------------+--------------------+-----------+-----------+------------+------------------+\n",
      "only showing top 100 rows\n",
      "\n"
     ]
    }
   ],
   "source": [
    "# Filtro para visualizar o resultado final do processamento\n",
    "\n",
    "df_final.select('codigo_concorrente','endereco','qtd_visitas','semana_nome','periodo','dens_demografica') \\\n",
    "        .filter( df_final['qtd_visitas'].isNotNull() ) \\\n",
    "        .sort(col('codigo_concorrente'),col('semana_id').asc(), col('periodo').asc()) \\\n",
    "        .show(n=100)"
   ]
  },
  {
   "cell_type": "code",
   "execution_count": 15,
   "metadata": {},
   "outputs": [
    {
     "data": {
      "text/plain": [
       "[('codigo_concorrente', 'string'),\n",
       " ('nome', 'string'),\n",
       " ('categoria', 'string'),\n",
       " ('endereco', 'string'),\n",
       " ('municipio', 'string'),\n",
       " ('uf', 'string'),\n",
       " ('codigo_bairro', 'string'),\n",
       " ('area', 'string'),\n",
       " ('populacao', 'bigint'),\n",
       " ('dens_demografica', 'double'),\n",
       " ('semana_id', 'string'),\n",
       " ('semana_nome', 'string'),\n",
       " ('periodo', 'string'),\n",
       " ('qtd_visitas', 'bigint')]"
      ]
     },
     "execution_count": 15,
     "metadata": {},
     "output_type": "execute_result"
    }
   ],
   "source": [
    "df_final.dtypes"
   ]
  },
  {
   "cell_type": "code",
   "execution_count": 17,
   "metadata": {},
   "outputs": [],
   "source": [
    "# Gravacao arquivo final para disponibilização na camada de Micro Serviços\n",
    "\n",
    "df_final.repartition(1).write.csv('hive_final', header=True, mode='overwrite', sep='|')"
   ]
  },
  {
   "cell_type": "markdown",
   "metadata": {},
   "source": [
    "# MICRO SERVICO Concorrentes\n",
    "\n",
    "## Exposicao Webservice para validar REST API"
   ]
  },
  {
   "cell_type": "code",
   "execution_count": null,
   "metadata": {},
   "outputs": [],
   "source": []
  }
 ],
 "metadata": {
  "kernelspec": {
   "display_name": "Python 3",
   "language": "python",
   "name": "python3"
  },
  "language_info": {
   "codemirror_mode": {
    "name": "ipython",
    "version": 3
   },
   "file_extension": ".py",
   "mimetype": "text/x-python",
   "name": "python",
   "nbconvert_exporter": "python",
   "pygments_lexer": "ipython3",
   "version": "3.7.1"
  }
 },
 "nbformat": 4,
 "nbformat_minor": 2
}
